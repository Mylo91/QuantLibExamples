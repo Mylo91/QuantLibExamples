{
 "cells": [
  {
   "cell_type": "code",
   "execution_count": 21,
   "metadata": {},
   "outputs": [],
   "source": [
    "import QuantLib as ql\n",
    "import numpy as np\n",
    "import matplotlib.pyplot as plt"
   ]
  },
  {
   "cell_type": "code",
   "execution_count": 2,
   "metadata": {},
   "outputs": [],
   "source": [
    "today = ql.Date(30, 6, 2022)\n",
    "ql.Settings.instance().evaluationDate = today\n",
    "\n",
    "# Deutsche Bank AG CDS spreads as of valuation date\n",
    "tenors = [ql.Period(6, ql.Months), ql.Period(1, ql.Years), ql.Period(2, ql.Years), ql.Period(3, ql.Years),\n",
    "          ql.Period(4, ql.Years), ql.Period(5, ql.Years), ql.Period(6, ql.Years), ql.Period(7, ql.Years),\n",
    "          ql.Period(8, ql.Years), ql.Period(9, ql.Years), ql.Period(10, ql.Years)]\n",
    "\n",
    "spreads = [68.54, 77.66, 92.15, 102.31, 113.61, 128.17, 133.39, 138.61, 142.41, 146.21, 150.01]"
   ]
  },
  {
   "cell_type": "markdown",
   "metadata": {},
   "source": [
    "## ISDA Standard Upfront Model - Flat hazard rate\n",
    "\n",
    "Assumes flat hazard rate. \n",
    "Recall the survaval probability\n",
    "$$ Q(t) = \\exp^{-\\frac{s}{1-RR}t}$$\n",
    "where $\\frac{s}{1-RR}$ is the hazard rate"
   ]
  },
  {
   "cell_type": "code",
   "execution_count": 20,
   "metadata": {},
   "outputs": [
    {
     "data": {
      "text/plain": [
       "-26466.66361058659"
      ]
     },
     "execution_count": 20,
     "metadata": {},
     "output_type": "execute_result"
    }
   ],
   "source": [
    "# EUR 10M Deutsche Bank CDS 100bps 20 Dec 2023 upfront -> -25,266 for protection buyer\n",
    "s = 84.9067 # interpolated spread in bps\n",
    "RR = 0.4 # recovery rate - isda standard RR\n",
    "cpn = 100 # coupon in bps\n",
    "\n",
    "side = ql.Protection.Buyer\n",
    "nominal = 10e6\n",
    "cdsSchedule = ql.MakeSchedule(ql.Date(20, 6, 2022), ql.Date(20, 12, 2023), ql.Period('3M'),\n",
    "                            ql.Quarterly, ql.TARGET(), ql.Following, ql.Unadjusted, ql.DateGeneration.TwentiethIMM)\n",
    "\n",
    "cds = ql.CreditDefaultSwap(side, nominal, cpn / 10000, cdsSchedule, ql.Following, ql.Actual360())\n",
    "\n",
    "defaultProbability = ql.DefaultProbabilityTermStructureHandle(\n",
    "    ql.FlatHazardRate(today, ql.QuoteHandle(ql.SimpleQuote(s / 10000 / (1 - RR))), ql.Actual365Fixed())\n",
    ")\n",
    "\n",
    "yieldTermStructure = ql.YieldTermStructureHandle(ql.FlatForward(today, cpn / 10000, ql.Actual365Fixed()))\n",
    "\n",
    "engine = ql.IsdaCdsEngine(defaultProbability, RR, yieldTermStructure)\n",
    "cds.setPricingEngine(engine)\n",
    "cds.NPV()"
   ]
  },
  {
   "cell_type": "code",
   "execution_count": 37,
   "metadata": {},
   "outputs": [
    {
     "data": {
      "text/plain": [
       "Text(0.5, 1.0, 'Probability of Default')"
      ]
     },
     "execution_count": 37,
     "metadata": {},
     "output_type": "execute_result"
    },
    {
     "data": {
      "image/png": "[encoded data removed]",
      "text/plain": [
       "<Figure size 1080x504 with 2 Axes>"
      ]
     },
     "metadata": {
      "needs_background": "light"
     },
     "output_type": "display_data"
    }
   ],
   "source": [
    "# Plot hazard rate and PD\n",
    "spread = 150 \n",
    "t = np.arange(0, 50, 0.01)\n",
    "hazardRate = np.ones(t.size) * (s / 10000 / (1 - RR))\n",
    "PD = np.array([defaultProbability.defaultProbability(i) for i in t])\n",
    "\n",
    "f, (ax1, ax2) = plt.subplots(1, 2, figsize=(15, 7))\n",
    "ax1.plot(t, hazardRate)\n",
    "ax1.set_title(\"Hazard Rate\")\n",
    "ax2.plot(t, PD)\n",
    "ax2.set_title(\"Probability of Default\")"
   ]
  },
  {
   "cell_type": "markdown",
   "metadata": {},
   "source": [
    "## ISDA Fair Value Model - Piecewise constant hazard rate"
   ]
  },
  {
   "cell_type": "code",
   "execution_count": null,
   "metadata": {},
   "outputs": [],
   "source": [
    "CDSHelpers_ctpy = [ql.SpreadCdsHelper((spread / 10000.0), tenor, 0, ql.TARGET(), ql.Quarterly, ql.Following, \\\n",
    "    ql.DateGeneration.TwentiethIMM, ql.Actual360(), RR, ql.YieldTermStructureHandle(yts))\n",
    "for spread, tenor in zip(spreads, tenors)]\n",
    "\n",
    "pd_curve = ql.PiecewiseFlatHazardRate(settlementDate, CDSHelpers_ctpy, ql.Thirty360())\n",
    "\n",
    "engine = ql.IsdaCdsEngine(defaultProbability, RR, yieldTermStructure)\n",
    "cds.setPricingEngine(engine)\n",
    "cds.NPV()"
   ]
  },
  {
   "cell_type": "code",
   "execution_count": 38,
   "metadata": {},
   "outputs": [
    {
     "data": {
      "text/plain": [
       "<QuantLib.QuantLib.DefaultProbabilityTermStructureHandle; proxy of <Swig Object of type 'Handle< DefaultProbabilityTermStructure > *' at 0x000001CD21387CF0> >"
      ]
     },
     "execution_count": 38,
     "metadata": {},
     "output_type": "execute_result"
    }
   ],
   "source": [
    "ql.DefaultProbabilityTermStructureHandle()"
   ]
  },
  {
   "cell_type": "code",
   "execution_count": null,
   "metadata": {},
   "outputs": [],
   "source": []
  }
 ],
 "metadata": {
  "kernelspec": {
   "display_name": "Python 3",
   "language": "python",
   "name": "python3"
  },
  "language_info": {
   "codemirror_mode": {
    "name": "ipython",
    "version": 3
   },
   "file_extension": ".py",
   "mimetype": "text/x-python",
   "name": "python",
   "nbconvert_exporter": "python",
   "pygments_lexer": "ipython3",
   "version": "3.8.3"
  }
 },
 "nbformat": 4,
 "nbformat_minor": 4
}
